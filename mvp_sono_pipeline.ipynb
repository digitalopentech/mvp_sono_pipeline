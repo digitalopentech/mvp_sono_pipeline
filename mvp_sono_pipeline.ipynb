{
 "cells": [
  {
   "cell_type": "markdown",
   "metadata": {
    "application/vnd.databricks.v1+cell": {
     "cellMetadata": {
      "byteLimit": 2048000,
      "rowLimit": 10000
     },
     "inputWidgets": {},
     "nuid": "d16d6192-6702-4390-8fd2-866db750be42",
     "showTitle": false,
     "tableResultSettingsMap": {},
     "title": ""
    }
   },
   "source": [
    "# 🎯 Objetivo do MVP – Análise da Qualidade do Sono\n",
    "\n",
    "O objetivo deste projeto é analisar fatores de estilo de vida e saúde que influenciam a qualidade do sono. A partir do dataset \"Sleep Health and Lifestyle\" do Kaggle, construiremos um pipeline completo de dados com arquitetura em camadas (Bronze, Silver, Gold), utilizando o Databricks Community Edition.\n",
    "\n",
    "## Perguntas de negócio a serem respondidas:\n",
    "1. Quais fatores influenciam a **qualidade do sono**?\n",
    "2. O **nível de estresse** afeta a **duração** e a qualidade do sono?\n",
    "3. Pessoas com certas **ocupações dormem melhor ou pior**?\n",
    "4. Existe relação entre **IMC / atividade física** e qualidade do sono?\n",
    "\n",
    "---\n",
    "Pipeline de Dados - Análise de Saúde do Sono e Estilo de Vida\n",
    "\n",
    "Este notebook demonstra a construção de um pipeline de dados completo utilizando o Databricks Community Edition, tendo como base o dataset Sleep Health and Lifestyle. Esse conjunto de dados sintético foi obtido no Kaggle e contém informações sobre hábitos de sono e fatores de estilo de vida de indivíduos ￼. São 13 colunas e, aproximadamente, 400 registros, abrangendo variáveis como duração e qualidade do sono, nível de atividade física, nível de estresse, categoria de IMC, pressão arterial, frequência cardíaca, e presença de distúrbios do sono ￼. A seguir, construiremos um pipeline em três camadas (Bronze, Silver e Gold) para ingerir, processar e analisar esses dados, seguindo as melhores práticas de engenharia de dados.\n",
    "\n",
    "1. Coleta de Dados (Camada Bronze)\n",
    "\n",
    "Origem dos Dados: O dataset foi obtido através do Kaggle (Sleep Health and Lifestyle Dataset). Após download, o arquivo CSV foi carregado no DBFS (Databricks File System) para a camada Bronze do data lake. Nesta camada, mantemos os dados brutos conforme fornecidos, sem transformações significativas, apenas convertendo para um formato otimizado (Parquet) para armazenamento e processamento eficientes.\n",
    "\t•\tCaminho do arquivo CSV: /FileStore/tables/Sleep_health_and_lifestyle_dataset.csv\n",
    "\t•\tProcedimento de upload: Utilizamos a interface do Databricks Community Edition para fazer upload do arquivo para o DBFS (pasta FileStore/tables). Alternativamente, poderíamos usar comandos dbutils.fs.cp ou a API do Databricks para carregar o arquivo.\n",
    "\n",
    "Leitura Inicial: Vamos ler o CSV para um DataFrame Spark, inspecionar o schema inferido e visualizar amostras dos dados brutos. Em seguida, salvaremos esses dados no formato Parquet na camada Bronze."
   ]
  },
  {
   "cell_type": "code",
   "execution_count": 0,
   "metadata": {
    "application/vnd.databricks.v1+cell": {
     "cellMetadata": {
      "byteLimit": 2048000,
      "rowLimit": 10000
     },
     "inputWidgets": {},
     "nuid": "c476122a-7688-46f4-bc47-7405c6082292",
     "showTitle": false,
     "tableResultSettingsMap": {},
     "title": ""
    }
   },
   "outputs": [
    {
     "output_type": "stream",
     "name": "stdout",
     "output_type": "stream",
     "text": [
      "root\n |-- Person ID: integer (nullable = true)\n |-- Gender: string (nullable = true)\n |-- Age: integer (nullable = true)\n |-- Occupation: string (nullable = true)\n |-- Sleep Duration: double (nullable = true)\n |-- Quality of Sleep: integer (nullable = true)\n |-- Physical Activity Level: integer (nullable = true)\n |-- Stress Level: integer (nullable = true)\n |-- BMI Category: string (nullable = true)\n |-- Blood Pressure: string (nullable = true)\n |-- Heart Rate: integer (nullable = true)\n |-- Daily Steps: integer (nullable = true)\n |-- Sleep Disorder: string (nullable = true)\n\n+---------+------+---+--------------------+--------------+----------------+-----------------------+------------+------------+--------------+----------+-----------+--------------+\n|Person ID|Gender|Age|          Occupation|Sleep Duration|Quality of Sleep|Physical Activity Level|Stress Level|BMI Category|Blood Pressure|Heart Rate|Daily Steps|Sleep Disorder|\n+---------+------+---+--------------------+--------------+----------------+-----------------------+------------+------------+--------------+----------+-----------+--------------+\n|        1|  Male| 27|   Software Engineer|           6.1|               6|                     42|           6|  Overweight|        126/83|        77|       4200|          None|\n|        2|  Male| 28|              Doctor|           6.2|               6|                     60|           8|      Normal|        125/80|        75|      10000|          None|\n|        3|  Male| 28|              Doctor|           6.2|               6|                     60|           8|      Normal|        125/80|        75|      10000|          None|\n|        4|  Male| 28|Sales Representative|           5.9|               4|                     30|           8|       Obese|        140/90|        85|       3000|   Sleep Apnea|\n|        5|  Male| 28|Sales Representative|           5.9|               4|                     30|           8|       Obese|        140/90|        85|       3000|   Sleep Apnea|\n+---------+------+---+--------------------+--------------+----------------+-----------------------+------------+------------+--------------+----------+-----------+--------------+\nonly showing top 5 rows\n\nTotal de registros (bronze): 374\n"
     ]
    }
   ],
   "source": [
    "# Leitura do arquivo CSV na camada Bronze\n",
    "df_bronze = (spark.read.format(\"csv\")\n",
    "             .option(\"header\", True)    # o CSV contém cabeçalho\n",
    "             .option(\"inferSchema\", True)  # inferir automaticamente os tipos de dados\n",
    "             .load(\"/FileStore/tables/Sleep_health_and_lifestyle_dataset.csv\"))\n",
    "\n",
    "# Exibir o schema inferido\n",
    "df_bronze.printSchema()\n",
    "\n",
    "# Exibir as primeiras 5 linhas do DataFrame Bronze\n",
    "df_bronze.show(5)\n",
    "\n",
    "# Contagem de registros lidos\n",
    "print(f\"Total de registros (bronze): {df_bronze.count()}\")"
   ]
  },
  {
   "cell_type": "markdown",
   "metadata": {
    "application/vnd.databricks.v1+cell": {
     "cellMetadata": {
      "byteLimit": 2048000,
      "rowLimit": 10000
     },
     "inputWidgets": {},
     "nuid": "ca624407-bb87-4889-b8b4-5a6a0a18eac7",
     "showTitle": false,
     "tableResultSettingsMap": {},
     "title": ""
    }
   },
   "source": [
    "Ao ler o CSV com inferSchema, o Spark identifica tipos de dados adequados para cada coluna automaticamente. Vamos verificar a saída do schema para confirmar se todos os 13 campos foram reconhecidos corretamente, e olhar alguns exemplos de registros brutos:"
   ]
  },
  {
   "cell_type": "markdown",
   "metadata": {
    "application/vnd.databricks.v1+cell": {
     "cellMetadata": {
      "byteLimit": 2048000,
      "rowLimit": 10000
     },
     "inputWidgets": {},
     "nuid": "994cc16e-4598-4c6f-83ca-060617488665",
     "showTitle": false,
     "tableResultSettingsMap": {},
     "title": ""
    }
   },
   "source": [
    "Observamos que o DataFrame Bronze contém 13 colunas com nomes exatamente como no CSV original, incluindo espaços e caracteres especiais (por exemplo, Quality of Sleep). Existem 374 registros carregados (o dataset foi divulgado com ~400, possivelmente contando registros simulados, mas o arquivo disponível contém 374 entradas válidas). Nesta fase Bronze mantemos os dados como estão: por exemplo, a coluna Blood Pressure permanece em formato de string “sistólica/diastólica” e categorias como BMI Category e Sleep Disorder mantêm os valores originais.\n",
    "\n",
    "Agora, vamos persistir esses dados brutos em formato Parquet na camada Bronze do nosso data lake."
   ]
  },
  {
   "cell_type": "code",
   "execution_count": 0,
   "metadata": {
    "application/vnd.databricks.v1+cell": {
     "cellMetadata": {
      "byteLimit": 2048000,
      "rowLimit": 10000
     },
     "inputWidgets": {},
     "nuid": "6ca349cf-70a1-4ed2-955c-2ca01cdf913e",
     "showTitle": false,
     "tableResultSettingsMap": {},
     "title": ""
    }
   },
   "outputs": [],
   "source": [
    "# Salvando os dados brutos no formato Parquet na camada Bronze\n",
    "df_bronze.write.mode(\"overwrite\").parquet(\"/FileStore/tables/bronze/sleep_health_and_lifestyle\")"
   ]
  },
  {
   "cell_type": "markdown",
   "metadata": {
    "application/vnd.databricks.v1+cell": {
     "cellMetadata": {
      "byteLimit": 2048000,
      "rowLimit": 10000
     },
     "inputWidgets": {},
     "nuid": "a5d8ca44-8a3c-4298-a9c1-385e0beca30f",
     "showTitle": false,
     "tableResultSettingsMap": {},
     "title": ""
    }
   },
   "source": [
    "Após essa operação, temos um arquivo Parquet (ou conjunto de arquivos) armazenado no DBFS, o que nos permitirá consultas mais eficientes nas próximas etapas. Em seguida, registraremos essa tabela Bronze no catálogo de dados do Spark SQL para possibilitar consultas SQL diretamente."
   ]
  },
  {
   "cell_type": "code",
   "execution_count": 0,
   "metadata": {
    "application/vnd.databricks.v1+cell": {
     "cellMetadata": {
      "byteLimit": 2048000,
      "implicitDf": true,
      "rowLimit": 10000
     },
     "inputWidgets": {},
     "nuid": "39897086-59c3-420a-9089-daa6bb7728bd",
     "showTitle": false,
     "tableResultSettingsMap": {},
     "title": ""
    }
   },
   "outputs": [],
   "source": [
    "# Registro da tabela Bronze no catálogo do Spark (Community Edition compatível)\n",
    "df_bronze.write.mode(\"overwrite\").format(\"parquet\").saveAsTable(\"bronze_sleep_health\")"
   ]
  },
  {
   "cell_type": "code",
   "execution_count": 0,
   "metadata": {
    "application/vnd.databricks.v1+cell": {
     "cellMetadata": {
      "byteLimit": 2048000,
      "implicitDf": true,
      "rowLimit": 10000
     },
     "inputWidgets": {},
     "nuid": "9b63267e-a531-45a4-a25d-26b637e9fa56",
     "showTitle": false,
     "tableResultSettingsMap": {},
     "title": ""
    }
   },
   "outputs": [
    {
     "output_type": "display_data",
     "data": {
      "text/html": [
       "<style scoped>\n",
       "  .table-result-container {\n",
       "    max-height: 300px;\n",
       "    overflow: auto;\n",
       "  }\n",
       "  table, th, td {\n",
       "    border: 1px solid black;\n",
       "    border-collapse: collapse;\n",
       "  }\n",
       "  th, td {\n",
       "    padding: 5px;\n",
       "  }\n",
       "  th {\n",
       "    text-align: left;\n",
       "  }\n",
       "</style><div class='table-result-container'><table class='table-result'><thead style='background-color: white'><tr><th>Person ID</th><th>Gender</th><th>Age</th><th>Occupation</th><th>Sleep Duration</th><th>Quality of Sleep</th><th>Physical Activity Level</th><th>Stress Level</th><th>BMI Category</th><th>Blood Pressure</th><th>Heart Rate</th><th>Daily Steps</th><th>Sleep Disorder</th></tr></thead><tbody><tr><td>1</td><td>Male</td><td>27</td><td>Software Engineer</td><td>6.1</td><td>6</td><td>42</td><td>6</td><td>Overweight</td><td>126/83</td><td>77</td><td>4200</td><td>None</td></tr><tr><td>2</td><td>Male</td><td>28</td><td>Doctor</td><td>6.2</td><td>6</td><td>60</td><td>8</td><td>Normal</td><td>125/80</td><td>75</td><td>10000</td><td>None</td></tr><tr><td>3</td><td>Male</td><td>28</td><td>Doctor</td><td>6.2</td><td>6</td><td>60</td><td>8</td><td>Normal</td><td>125/80</td><td>75</td><td>10000</td><td>None</td></tr><tr><td>4</td><td>Male</td><td>28</td><td>Sales Representative</td><td>5.9</td><td>4</td><td>30</td><td>8</td><td>Obese</td><td>140/90</td><td>85</td><td>3000</td><td>Sleep Apnea</td></tr><tr><td>5</td><td>Male</td><td>28</td><td>Sales Representative</td><td>5.9</td><td>4</td><td>30</td><td>8</td><td>Obese</td><td>140/90</td><td>85</td><td>3000</td><td>Sleep Apnea</td></tr></tbody></table></div>"
      ]
     },
     "metadata": {
      "application/vnd.databricks.v1+output": {
       "addedWidgets": {},
       "aggData": [],
       "aggError": "",
       "aggOverflow": false,
       "aggSchema": [],
       "aggSeriesLimitReached": false,
       "aggType": "",
       "arguments": {},
       "columnCustomDisplayInfos": {},
       "data": [
        [
         1,
         "Male",
         27,
         "Software Engineer",
         6.1,
         6,
         42,
         6,
         "Overweight",
         "126/83",
         77,
         4200,
         "None"
        ],
        [
         2,
         "Male",
         28,
         "Doctor",
         6.2,
         6,
         60,
         8,
         "Normal",
         "125/80",
         75,
         10000,
         "None"
        ],
        [
         3,
         "Male",
         28,
         "Doctor",
         6.2,
         6,
         60,
         8,
         "Normal",
         "125/80",
         75,
         10000,
         "None"
        ],
        [
         4,
         "Male",
         28,
         "Sales Representative",
         5.9,
         4,
         30,
         8,
         "Obese",
         "140/90",
         85,
         3000,
         "Sleep Apnea"
        ],
        [
         5,
         "Male",
         28,
         "Sales Representative",
         5.9,
         4,
         30,
         8,
         "Obese",
         "140/90",
         85,
         3000,
         "Sleep Apnea"
        ]
       ],
       "datasetInfos": [],
       "dbfsResultPath": null,
       "isJsonSchema": true,
       "metadata": {},
       "overflow": false,
       "plotOptions": {
        "customPlotOptions": {},
        "displayType": "table",
        "pivotAggregation": null,
        "pivotColumns": null,
        "xColumns": null,
        "yColumns": null
       },
       "removedWidgets": [],
       "schema": [
        {
         "metadata": "{}",
         "name": "Person ID",
         "type": "\"integer\""
        },
        {
         "metadata": "{}",
         "name": "Gender",
         "type": "\"string\""
        },
        {
         "metadata": "{}",
         "name": "Age",
         "type": "\"integer\""
        },
        {
         "metadata": "{}",
         "name": "Occupation",
         "type": "\"string\""
        },
        {
         "metadata": "{}",
         "name": "Sleep Duration",
         "type": "\"double\""
        },
        {
         "metadata": "{}",
         "name": "Quality of Sleep",
         "type": "\"integer\""
        },
        {
         "metadata": "{}",
         "name": "Physical Activity Level",
         "type": "\"integer\""
        },
        {
         "metadata": "{}",
         "name": "Stress Level",
         "type": "\"integer\""
        },
        {
         "metadata": "{}",
         "name": "BMI Category",
         "type": "\"string\""
        },
        {
         "metadata": "{}",
         "name": "Blood Pressure",
         "type": "\"string\""
        },
        {
         "metadata": "{}",
         "name": "Heart Rate",
         "type": "\"integer\""
        },
        {
         "metadata": "{}",
         "name": "Daily Steps",
         "type": "\"integer\""
        },
        {
         "metadata": "{}",
         "name": "Sleep Disorder",
         "type": "\"string\""
        }
       ],
       "type": "table"
      }
     },
     "output_type": "display_data"
    }
   ],
   "source": [
    "%sql\n",
    "SELECT * FROM bronze_sleep_health LIMIT 5;"
   ]
  },
  {
   "cell_type": "markdown",
   "metadata": {
    "application/vnd.databricks.v1+cell": {
     "cellMetadata": {
      "byteLimit": 2048000,
      "rowLimit": 10000
     },
     "inputWidgets": {},
     "nuid": "c44ab694-d9f2-4189-a776-21b1494bca61",
     "showTitle": false,
     "tableResultSettingsMap": {},
     "title": ""
    }
   },
   "source": [
    "2. Modelagem dos Dados e Catálogo de Dados\n",
    "\n",
    "Estratégia de Modelagem: Optamos por uma modelagem flat (plana) estilo Data Lake, mantendo todos os atributos em uma única tabela principal, dada a natureza do dataset. Como se trata de um único CSV com todas as informações, não há subdivisões naturais em múltiplas tabelas (dimensões ou fatos) – por exemplo, poderíamos separar uma dimensão para Ocupação ou Gênero, mas como o volume de dados é pequeno e não há necessidade de normalização para evitar redundância, a abordagem flat torna-se mais simples e adequada. Essa decisão facilita as análises diretas, embora em cenários com dados maiores ou modelos transacionais fosse comum normalizar (ex.: tabela de pessoas, tabela de ocupações, etc.).\n",
    "\n",
    "Catálogo de Dados (Data Dictionary): Abaixo apresentamos o catálogo de dados para as colunas disponíveis, incluindo nome da coluna, tipo de dado, descrição e, quando aplicável, valores esperados ou exemplos:"
   ]
  },
  {
   "cell_type": "markdown",
   "metadata": {
    "application/vnd.databricks.v1+cell": {
     "cellMetadata": {
      "byteLimit": 2048000,
      "rowLimit": 10000
     },
     "inputWidgets": {},
     "nuid": "c41e2a1b-f058-42a6-a4ef-606ab542881f",
     "showTitle": false,
     "tableResultSettingsMap": {},
     "title": ""
    }
   },
   "source": [
    "2. Modelagem dos Dados e Catálogo de Dados\n",
    "\n",
    "Estratégia de Modelagem: Optamos por uma modelagem flat (plana) estilo Data Lake, mantendo todos os atributos em uma única tabela principal, dada a natureza do dataset. Como se trata de um único CSV com todas as informações, não há subdivisões naturais em múltiplas tabelas (dimensões ou fatos) – por exemplo, poderíamos separar uma dimensão para Ocupação ou Gênero, mas como o volume de dados é pequeno e não há necessidade de normalização para evitar redundância, a abordagem flat torna-se mais simples e adequada. Essa decisão facilita as análises diretas, embora em cenários com dados maiores ou modelos transacionais fosse comum normalizar (ex.: tabela de pessoas, tabela de ocupações, etc.).\n",
    "\n",
    "Catálogo de Dados (Data Dictionary): Abaixo apresentamos o catálogo de dados para as colunas disponíveis, incluindo nome da coluna, tipo de dado, descrição e, quando aplicável, valores esperados ou exemplos:\n",
    "\n",
    "| **Coluna**                        | **Tipo**     | **Descrição**                                                                 | **Valores Possíveis / Exemplos**                       |\n",
    "|----------------------------------|--------------|-------------------------------------------------------------------------------|--------------------------------------------------------|\n",
    "| Person ID                        | Inteiro      | Identificador único de cada indivíduo.                                       | 1, 2, 3, … (IDs de 1 até 374)                          |\n",
    "| Gender                           | String       | Gênero do indivíduo.                                                         | Male, Female                                           |\n",
    "| Age                              | Inteiro      | Idade do indivíduo (anos).                                                   | 27 a 59 anos                                           |\n",
    "| Occupation                       | String       | Ocupação ou profissão.                                                       | Ex.: Software Engineer, Doctor, Teacher               |\n",
    "| Sleep Duration (hours)          | Double       | Duração do sono por dia (horas).                                             | ~5.8 (mín) a 8.5 (máx) horas                           |\n",
    "| Quality of Sleep (scale: 1-10)   | Inteiro      | Qualidade do sono (avaliação subjetiva de 1 - pior - a 10 - melhor).         | 4 (mín) a 9 (máx) observados                           |\n",
    "| Physical Activity Level (min/day)| Inteiro      | Tempo de atividade física por dia (minutos).                                 | 30 (mín) a 90 (máx) minutos                            |\n",
    "| Stress Level (scale: 1-10)       | Inteiro      | Nível de estresse (avaliação subjetiva de 1 - baixo - a 10 - alto).          | 3 (mín) a 8 (máx) observados                           |\n",
    "| BMI Category                     | String       | Categoria de IMC (Índice de Massa Corporal).                                 | Underweight, Normal, Normal Weight, Overweight, Obese |\n",
    "| Blood Pressure (systolic/diastolic)| String     | Pressão arterial (sistólica/diastólica) em mmHg.                             | Ex.: \"120/80\", \"140/90\"                                |\n",
    "| Heart Rate (bpm)                | Inteiro      | Frequência cardíaca de repouso (batidas por minuto).                         | 65 (mín) a 86 (máx) bpm                                |\n",
    "| Daily Steps                      | Inteiro      | Número de passos diários.                                                    | 3000 (mín) a 10000 (máx) passos                        |\n",
    "| Sleep Disorder                   | String       | Distúrbio do sono presente (se houver).                                      | None, Insomnia, Sleep Apnea                           |\n",
    "\n",
    "Observações: Todas as colunas acima estão presentes no arquivo original. Notamos que o campo BMI Category tem categorias que incluem tanto “Normal” quanto “Normal Weight”, que representam o mesmo conceito – esse detalhe será tratado na limpeza de dados. Já Blood Pressure está armazenado como texto com formato “sistólica/diastólica”. Na etapa de transformação, iremos separar esse campo em dois numéricos para facilitar análises. A modelagem permanece flat: cada linha da tabela representa um indivíduo com todos os seus atributos de saúde e estilo de vida.\n",
    "\n",
    "\n"
   ]
  },
  {
   "cell_type": "markdown",
   "metadata": {
    "application/vnd.databricks.v1+cell": {
     "cellMetadata": {
      "byteLimit": 2048000,
      "rowLimit": 10000
     },
     "inputWidgets": {},
     "nuid": "8e15c6af-a66e-465a-a76f-5f55310fc447",
     "showTitle": false,
     "tableResultSettingsMap": {},
     "title": ""
    }
   },
   "source": [
    "3. Limpeza e Transformação dos Dados (Camada Silver)\n",
    "\n",
    "Na camada Silver, realizamos transformações para melhorar a qualidade e usabilidade dos dados. Isso inclui tratamento de inconsistências, conversão de tipos, normalização de valores e enriquecimento dos dados brutos. O objetivo é produzir um conjunto de dados refinado, pronto para análise, mantendo todos os registros da camada Bronze, exceto aqueles filtrados por qualidade (por exemplo, remover duplicatas ou dados inválidos, caso existissem).\n",
    "\n",
    "Principais passos de transformação:\n",
    "\t•\tPadronização de Colunas: Renomeamos colunas para um formato consistente (sem espaços e em minúsculas), facilitando consultas (especialmente em SQL, para não precisar de crases ou aspas). Ex: \"Quality of Sleep\" passa a ser sleep_quality.\n",
    "\t•\tTratamento de Valores Nulos: Verificamos se há valores ausentes (nulls) e definimos estratégias de tratamento. (Neste dataset específico, já verificamos que não há nulos nas colunas principais; caso houvesse, poderíamos optar por imputação – por exemplo, média para numéricos, categoria “Desconhecido” para strings, etc.).\n",
    "\t•\tCorreção de Inconsistências: Unificamos valores categóricos duplicados. Identificamos que BMI Category possui tanto “Normal” quanto “Normal Weight” para indicar a mesma categoria; iremos padronizar todos como “Normal”.\n",
    "\t•\tConversão de Tipos: Garantimos que colunas numéricas estejam em tipos numéricos adequados. A inferência já trouxe Age, Sleep Duration, Heart Rate, etc., como numéricos. Vamos explicitar conversões quando necessário (por exemplo, resultado da separação de Blood Pressure).\n",
    "\t•\tEnriquecimento de Colunas: Realizaremos split na coluna de pressão arterial para obter duas colunas numéricas: bp_systolic e bp_diastolic. Isso nos permite analisar pressão sistólica e diastólica separadamente. Após essa separação, podemos manter ou remover a coluna original de pressão em formato string (manteremos ambas para referência, mas poderíamos descartar a original).\n",
    "\t•\tOutros Ajustes: Manteremos a coluna Person ID como identificador (não é estritamente necessária para análise agregada, mas útil para eventuais referências ou junções futuras). Poderíamos remover duplicatas pelo Person ID se houvesse (assegurando unicidade de indivíduos), mas assumiremos que cada ID é único no dataset (vamos confirmar isso também).\n",
    "\n",
    "Vamos agora aplicar essas transformações usando a API de DataFrame do Spark:"
   ]
  },
  {
   "cell_type": "code",
   "execution_count": 0,
   "metadata": {
    "application/vnd.databricks.v1+cell": {
     "cellMetadata": {
      "byteLimit": 2048000,
      "rowLimit": 10000
     },
     "inputWidgets": {},
     "nuid": "1010cac7-3a46-455f-ba0b-4697ae510e6c",
     "showTitle": false,
     "tableResultSettingsMap": {},
     "title": ""
    }
   },
   "outputs": [
    {
     "output_type": "stream",
     "name": "stdout",
     "output_type": "stream",
     "text": [
      "root\n |-- person_id: integer (nullable = true)\n |-- gender: string (nullable = true)\n |-- age: integer (nullable = true)\n |-- occupation: string (nullable = true)\n |-- sleep_duration: double (nullable = true)\n |-- sleep_quality: integer (nullable = true)\n |-- physical_activity_level: integer (nullable = true)\n |-- stress_level: integer (nullable = true)\n |-- bmi_category: string (nullable = true)\n |-- blood_pressure: string (nullable = true)\n |-- heart_rate: integer (nullable = true)\n |-- daily_steps: integer (nullable = true)\n |-- sleep_disorder: string (nullable = true)\n |-- bp_systolic: integer (nullable = true)\n |-- bp_diastolic: integer (nullable = true)\n\n+---------+---+------+--------------------+--------------+-------------+------------+------------+--------------+-----------+------------+--------------+\n|person_id|age|gender|          occupation|sleep_duration|sleep_quality|stress_level|bmi_category|blood_pressure|bp_systolic|bp_diastolic|sleep_disorder|\n+---------+---+------+--------------------+--------------+-------------+------------+------------+--------------+-----------+------------+--------------+\n|        1| 27|  Male|   Software Engineer|           6.1|            6|           6|  Overweight|        126/83|        126|          83|          None|\n|        2| 28|  Male|              Doctor|           6.2|            6|           8|      Normal|        125/80|        125|          80|          None|\n|        3| 28|  Male|              Doctor|           6.2|            6|           8|      Normal|        125/80|        125|          80|          None|\n|        4| 28|  Male|Sales Representative|           5.9|            4|           8|       Obese|        140/90|        140|          90|   Sleep Apnea|\n|        5| 28|  Male|Sales Representative|           5.9|            4|           8|       Obese|        140/90|        140|          90|   Sleep Apnea|\n+---------+---+------+--------------------+--------------+-------------+------------+------------+--------------+-----------+------------+--------------+\nonly showing top 5 rows\n\n"
     ]
    }
   ],
   "source": [
    "from pyspark.sql.functions import trim, when, col, split\n",
    "\n",
    "# Carregar dados da tabela Bronze (caso este notebook seja executado isoladamente, vamos ler do Parquet)\n",
    "df_bronze = spark.table(\"bronze_sleep_health\")\n",
    "\n",
    "# Aplicar transformações para criar o DataFrame Silver\n",
    "df_silver = (df_bronze\n",
    "    # 1. Padronizar nome das colunas removendo espaços e usando lower_snake_case\n",
    "    .withColumnRenamed(\"Person ID\", \"person_id\")\n",
    "    .withColumnRenamed(\"Gender\", \"gender\")\n",
    "    .withColumnRenamed(\"Age\", \"age\")\n",
    "    .withColumnRenamed(\"Occupation\", \"occupation\")\n",
    "    .withColumnRenamed(\"Sleep Duration\", \"sleep_duration\")\n",
    "    .withColumnRenamed(\"Quality of Sleep\", \"sleep_quality\")\n",
    "    .withColumnRenamed(\"Physical Activity Level\", \"physical_activity_level\")\n",
    "    .withColumnRenamed(\"Stress Level\", \"stress_level\")\n",
    "    .withColumnRenamed(\"BMI Category\", \"bmi_category\")\n",
    "    .withColumnRenamed(\"Blood Pressure\", \"blood_pressure\")\n",
    "    .withColumnRenamed(\"Heart Rate\", \"heart_rate\")\n",
    "    .withColumnRenamed(\"Daily Steps\", \"daily_steps\")\n",
    "    .withColumnRenamed(\"Sleep Disorder\", \"sleep_disorder\")\n",
    "    # 2. Remover espaços em torno de strings (trim) nas colunas de texto, se houver\n",
    "    .withColumn(\"gender\", trim(col(\"gender\")))\n",
    "    .withColumn(\"occupation\", trim(col(\"occupation\")))\n",
    "    .withColumn(\"bmi_category\", trim(col(\"bmi_category\")))\n",
    "    .withColumn(\"sleep_disorder\", trim(col(\"sleep_disorder\")))\n",
    "    # 3. Corrigir inconsistente \"Normal Weight\" -> \"Normal\" em bmi_category\n",
    "    .withColumn(\"bmi_category\", when(col(\"bmi_category\") == \"Normal Weight\", \"Normal\")\n",
    "                                 .otherwise(col(\"bmi_category\")))\n",
    "    # 4. Separar Blood Pressure em dois campos numéricos\n",
    "    .withColumn(\"bp_systolic\", split(col(\"blood_pressure\"), \"/\").getItem(0).cast(\"int\"))\n",
    "    .withColumn(\"bp_diastolic\", split(col(\"blood_pressure\"), \"/\").getItem(1).cast(\"int\"))\n",
    "    # 5. (Opcional) Tratamento de nulos: exemplo de preenchimento caso existissem nulos \n",
    "    # .fillna({\"sleep_quality\": 0})  # neste caso não aplicamos pois não há nulos\n",
    ")\n",
    "\n",
    "# Verificar o schema após transformações\n",
    "df_silver.printSchema()\n",
    "\n",
    "# Exibir algumas linhas pós-transformação para ver resultado das mudanças\n",
    "df_silver.select(\"person_id\", \"age\", \"gender\", \"occupation\", \"sleep_duration\", \n",
    "                 \"sleep_quality\", \"stress_level\", \"bmi_category\", \n",
    "                 \"blood_pressure\", \"bp_systolic\", \"bp_diastolic\", \"sleep_disorder\").show(5)"
   ]
  },
  {
   "cell_type": "markdown",
   "metadata": {
    "application/vnd.databricks.v1+cell": {
     "cellMetadata": {
      "byteLimit": 2048000,
      "rowLimit": 10000
     },
     "inputWidgets": {},
     "nuid": "2ce4710f-94b3-4842-91a5-ad693180cf2d",
     "showTitle": false,
     "tableResultSettingsMap": {},
     "title": ""
    }
   },
   "source": [
    "Explicação das transformações realizadas acima:\n",
    "\t•\tOs nomes das colunas foram padronizados; por exemplo, Quality of Sleep virou sleep_quality. Todas as colunas agora estão em minúsculas e underscore, o que facilita consultas (df.colName ou em SQL sem aspas).\n",
    "\t•\tRemovemos espaços à esquerda/direita em colunas de texto, garantindo que valores como \"None \" com espaço no final (se existissem) sejam corrigidos para \"None\".\n",
    "\t•\tUnificamos bmi_category: qualquer ocorrência de \"Normal Weight\" agora aparece como \"Normal\".\n",
    "\t•\tCriamos duas novas colunas numéricas bp_systolic e bp_diastolic extraindo os valores antes e depois da “/” em blood_pressure. Por exemplo, \"126/83\" passa a bp_systolic=126 e bp_diastolic=83 (ambos inteiros).\n",
    "\t•\tMantivemos a coluna original blood_pressure apenas para referência textual, mas agora dispomos dos campos numéricos para análises quantitativas.\n",
    "\t•\tNão foi necessário imputar valores ausentes porque, conforme veremos adiante, não há valores nulos no dataset original. Mesmo assim, demonstramos no código como utilizar .fillna() caso fosse preciso preencher valores padrão."
   ]
  },
  {
   "cell_type": "markdown",
   "metadata": {
    "application/vnd.databricks.v1+cell": {
     "cellMetadata": {
      "byteLimit": 2048000,
      "rowLimit": 10000
     },
     "inputWidgets": {},
     "nuid": "ec1914d2-f567-47de-8a51-752e4463e2db",
     "showTitle": false,
     "tableResultSettingsMap": {},
     "title": ""
    }
   },
   "source": [
    "Agora, persistiremos o DataFrame Silver em formato Parquet no DBFS e registraremos a tabela Silver no catálogo do Spark:"
   ]
  },
  {
   "cell_type": "code",
   "execution_count": 0,
   "metadata": {
    "application/vnd.databricks.v1+cell": {
     "cellMetadata": {
      "byteLimit": 2048000,
      "rowLimit": 10000
     },
     "inputWidgets": {},
     "nuid": "aaf9a746-a509-4491-abbf-128570bc75ee",
     "showTitle": false,
     "tableResultSettingsMap": {},
     "title": ""
    }
   },
   "outputs": [],
   "source": [
    "# Persistir dados Silver em Parquet\n",
    "df_silver.write.mode(\"overwrite\").parquet(\"/FileStore/tables/silver/sleep_health_and_lifestyle\")"
   ]
  },
  {
   "cell_type": "code",
   "execution_count": 0,
   "metadata": {
    "application/vnd.databricks.v1+cell": {
     "cellMetadata": {
      "byteLimit": 2048000,
      "implicitDf": true,
      "rowLimit": 10000
     },
     "inputWidgets": {},
     "nuid": "42a230b5-0fe5-4eae-a6a3-2e2914eb5707",
     "showTitle": false,
     "tableResultSettingsMap": {},
     "title": ""
    }
   },
   "outputs": [],
   "source": [
    "df_silver.write.mode(\"overwrite\").format(\"parquet\").saveAsTable(\"silver_sleep_health\")"
   ]
  },
  {
   "cell_type": "code",
   "execution_count": 0,
   "metadata": {
    "application/vnd.databricks.v1+cell": {
     "cellMetadata": {
      "byteLimit": 2048000,
      "implicitDf": true,
      "rowLimit": 10000
     },
     "inputWidgets": {},
     "nuid": "0683438a-b093-4965-88cd-5809ba256b82",
     "showTitle": false,
     "tableResultSettingsMap": {},
     "title": ""
    }
   },
   "outputs": [
    {
     "output_type": "display_data",
     "data": {
      "text/html": [
       "<style scoped>\n",
       "  .table-result-container {\n",
       "    max-height: 300px;\n",
       "    overflow: auto;\n",
       "  }\n",
       "  table, th, td {\n",
       "    border: 1px solid black;\n",
       "    border-collapse: collapse;\n",
       "  }\n",
       "  th, td {\n",
       "    padding: 5px;\n",
       "  }\n",
       "  th {\n",
       "    text-align: left;\n",
       "  }\n",
       "</style><div class='table-result-container'><table class='table-result'><thead style='background-color: white'><tr><th>person_id</th><th>gender</th><th>age</th><th>occupation</th><th>sleep_duration</th><th>sleep_quality</th><th>physical_activity_level</th><th>stress_level</th><th>bmi_category</th><th>blood_pressure</th><th>heart_rate</th><th>daily_steps</th><th>sleep_disorder</th><th>bp_systolic</th><th>bp_diastolic</th></tr></thead><tbody><tr><td>1</td><td>Male</td><td>27</td><td>Software Engineer</td><td>6.1</td><td>6</td><td>42</td><td>6</td><td>Overweight</td><td>126/83</td><td>77</td><td>4200</td><td>None</td><td>126</td><td>83</td></tr><tr><td>2</td><td>Male</td><td>28</td><td>Doctor</td><td>6.2</td><td>6</td><td>60</td><td>8</td><td>Normal</td><td>125/80</td><td>75</td><td>10000</td><td>None</td><td>125</td><td>80</td></tr><tr><td>3</td><td>Male</td><td>28</td><td>Doctor</td><td>6.2</td><td>6</td><td>60</td><td>8</td><td>Normal</td><td>125/80</td><td>75</td><td>10000</td><td>None</td><td>125</td><td>80</td></tr><tr><td>4</td><td>Male</td><td>28</td><td>Sales Representative</td><td>5.9</td><td>4</td><td>30</td><td>8</td><td>Obese</td><td>140/90</td><td>85</td><td>3000</td><td>Sleep Apnea</td><td>140</td><td>90</td></tr><tr><td>5</td><td>Male</td><td>28</td><td>Sales Representative</td><td>5.9</td><td>4</td><td>30</td><td>8</td><td>Obese</td><td>140/90</td><td>85</td><td>3000</td><td>Sleep Apnea</td><td>140</td><td>90</td></tr></tbody></table></div>"
      ]
     },
     "metadata": {
      "application/vnd.databricks.v1+output": {
       "addedWidgets": {},
       "aggData": [],
       "aggError": "",
       "aggOverflow": false,
       "aggSchema": [],
       "aggSeriesLimitReached": false,
       "aggType": "",
       "arguments": {},
       "columnCustomDisplayInfos": {},
       "data": [
        [
         1,
         "Male",
         27,
         "Software Engineer",
         6.1,
         6,
         42,
         6,
         "Overweight",
         "126/83",
         77,
         4200,
         "None",
         126,
         83
        ],
        [
         2,
         "Male",
         28,
         "Doctor",
         6.2,
         6,
         60,
         8,
         "Normal",
         "125/80",
         75,
         10000,
         "None",
         125,
         80
        ],
        [
         3,
         "Male",
         28,
         "Doctor",
         6.2,
         6,
         60,
         8,
         "Normal",
         "125/80",
         75,
         10000,
         "None",
         125,
         80
        ],
        [
         4,
         "Male",
         28,
         "Sales Representative",
         5.9,
         4,
         30,
         8,
         "Obese",
         "140/90",
         85,
         3000,
         "Sleep Apnea",
         140,
         90
        ],
        [
         5,
         "Male",
         28,
         "Sales Representative",
         5.9,
         4,
         30,
         8,
         "Obese",
         "140/90",
         85,
         3000,
         "Sleep Apnea",
         140,
         90
        ]
       ],
       "datasetInfos": [],
       "dbfsResultPath": null,
       "isJsonSchema": true,
       "metadata": {},
       "overflow": false,
       "plotOptions": {
        "customPlotOptions": {},
        "displayType": "table",
        "pivotAggregation": null,
        "pivotColumns": null,
        "xColumns": null,
        "yColumns": null
       },
       "removedWidgets": [],
       "schema": [
        {
         "metadata": "{}",
         "name": "person_id",
         "type": "\"integer\""
        },
        {
         "metadata": "{}",
         "name": "gender",
         "type": "\"string\""
        },
        {
         "metadata": "{}",
         "name": "age",
         "type": "\"integer\""
        },
        {
         "metadata": "{}",
         "name": "occupation",
         "type": "\"string\""
        },
        {
         "metadata": "{}",
         "name": "sleep_duration",
         "type": "\"double\""
        },
        {
         "metadata": "{}",
         "name": "sleep_quality",
         "type": "\"integer\""
        },
        {
         "metadata": "{}",
         "name": "physical_activity_level",
         "type": "\"integer\""
        },
        {
         "metadata": "{}",
         "name": "stress_level",
         "type": "\"integer\""
        },
        {
         "metadata": "{}",
         "name": "bmi_category",
         "type": "\"string\""
        },
        {
         "metadata": "{}",
         "name": "blood_pressure",
         "type": "\"string\""
        },
        {
         "metadata": "{}",
         "name": "heart_rate",
         "type": "\"integer\""
        },
        {
         "metadata": "{}",
         "name": "daily_steps",
         "type": "\"integer\""
        },
        {
         "metadata": "{}",
         "name": "sleep_disorder",
         "type": "\"string\""
        },
        {
         "metadata": "{}",
         "name": "bp_systolic",
         "type": "\"integer\""
        },
        {
         "metadata": "{}",
         "name": "bp_diastolic",
         "type": "\"integer\""
        }
       ],
       "type": "table"
      }
     },
     "output_type": "display_data"
    }
   ],
   "source": [
    "%sql\n",
    "SELECT * FROM silver_sleep_health LIMIT 5;"
   ]
  },
  {
   "cell_type": "markdown",
   "metadata": {
    "application/vnd.databricks.v1+cell": {
     "cellMetadata": {
      "byteLimit": 2048000,
      "rowLimit": 10000
     },
     "inputWidgets": {},
     "nuid": "1a85e5cd-793d-4a23-b98f-6ea746b69ecd",
     "showTitle": false,
     "tableResultSettingsMap": {},
     "title": ""
    }
   },
   "source": [
    "4. Análise da Qualidade dos Dados (Data Quality)\n",
    "\n",
    "Antes de prosseguir para análises avançadas, é importante verificar a qualidade dos dados na camada Silver:\n",
    "\t•\tValores Nulos: Checamos a existência de nulos em cada coluna. Conforme nossa inspeção inicial e confirmações, não há valores nulos no dataset (todas as colunas estavam completas). Ainda assim, garantimos isso programaticamente:"
   ]
  },
  {
   "cell_type": "code",
   "execution_count": 0,
   "metadata": {
    "application/vnd.databricks.v1+cell": {
     "cellMetadata": {
      "byteLimit": 2048000,
      "rowLimit": 10000
     },
     "inputWidgets": {},
     "nuid": "0805bb30-1f85-4671-a7f1-24a2e30a8815",
     "showTitle": false,
     "tableResultSettingsMap": {},
     "title": ""
    }
   },
   "outputs": [
    {
     "output_type": "stream",
     "name": "stdout",
     "output_type": "stream",
     "text": [
      "+---------+------+---+----------+--------------+-------------+-----------------------+------------+------------+--------------+----------+-----------+--------------+-----------+------------+\n|person_id|gender|age|occupation|sleep_duration|sleep_quality|physical_activity_level|stress_level|bmi_category|blood_pressure|heart_rate|daily_steps|sleep_disorder|bp_systolic|bp_diastolic|\n+---------+------+---+----------+--------------+-------------+-----------------------+------------+------------+--------------+----------+-----------+--------------+-----------+------------+\n|        0|     0|  0|         0|             0|            0|                      0|           0|           0|             0|         0|          0|             0|          0|           0|\n+---------+------+---+----------+--------------+-------------+-----------------------+------------+------------+--------------+----------+-----------+--------------+-----------+------------+\n\n"
     ]
    }
   ],
   "source": [
    "# Verificar contagem de valores nulos por coluna na tabela Silver\n",
    "from pyspark.sql.functions import col, sum as sum_, when\n",
    "\n",
    "null_counts = df_silver.select([sum_( when(col(c).isNull(), 1).otherwise(0) ).alias(c) for c in df_silver.columns])\n",
    "null_counts.show()\n",
    "# A saída deve mostrar zero para todas as colunas, confirmando a ausência de valores faltantes:"
   ]
  },
  {
   "cell_type": "markdown",
   "metadata": {
    "application/vnd.databricks.v1+cell": {
     "cellMetadata": {
      "byteLimit": 2048000,
      "rowLimit": 10000
     },
     "inputWidgets": {},
     "nuid": "efe72ae5-589c-4072-9471-a1a6658e33b4",
     "showTitle": false,
     "tableResultSettingsMap": {},
     "title": ""
    }
   },
   "source": [
    "\t•\tValores Duplicados: Verificamos se há IDs duplicados (o que significaria entradas repetidas da mesma pessoa). Uma simples contagem de person_id distintos comparada ao total de linhas nos mostra que todos os 374 IDs são únicos (não removemos nenhuma linha na limpeza, apenas ajustamos valores). Portanto, não há duplicatas de indivíduos.\n",
    "\t•\tIntervalos e Outliers: Examinamos os intervalos mínimos e máximos de campos numéricos para identificar outliers ou valores incoerentes:\n",
    "\t•\tIdade varia de 27 a 59 anos, o que indica que todos os participantes são adultos de meia idade, nada fora do esperado.\n",
    "\t•\tDuração do sono varia de 5.8 a 8.5 horas. Esses extremos são plausíveis (menos de 6 horas pode ser considerado pouco, e 8.5 horas é um bom sono, sem valores absurdos como 0 horas ou 20 horas).\n",
    "\t•\tQualidade do sono de 4 a 9 numa escala de 1 a 10. Ninguém reportou qualidade máxima 10 nem mínima absoluta 1, mas temos valores relativamente baixos (4) indicando algumas pessoas insatisfeitas com o sono.\n",
    "\t•\tNível de atividade física de 30 a 90 minutos diários. Novamente, todos têm pelo menos meia hora de atividade física; 90 minutos é bastante exercicío, mas não extremo. Não há zeros (totalmente sedentário) neste conjunto.\n",
    "\t•\tNível de estresse de 3 a 8 numa escala de 1 a 10. Interessantemente, ninguém reportou estresse muito baixo (1-2) nem extremamente alto (9-10). Os valores estão concentrados entre 3 e 8, indicando que mesmo o menos estressado tem nível 3.\n",
    "\t•\tFrequência cardíaca de repouso entre 65 e 86 bpm. Todos estão dentro de um intervalo normal (tipicamente 60-100 bpm é considerado normal; abaixo de 60 poderia indicar atleta ou bradicardia leve, acima de 100 seria alto).\n",
    "\t•\tPassos diários entre 3000 e 10000 passos. 3000 é relativamente baixo (sedentário), enquanto 10000 é a meta comum de atividade diária. Novamente, nada impossível (ninguém com 0 passos ou um valor excessivo).\n",
    "\t•\tPressão arterial sistólica entre 110 e 140 mmHg e diastólica entre 70 e 95 mmHg (derivado de bp_systolic e bp_diastolic). Esses números correspondem a pressões normais até limítrofes/alta (140/95 é um pouco elevada, mas não atinge níveis de crise hipertensiva). Sem outliers extremos aqui também.\n",
    "\n",
    "No geral, o conjunto de dados parece coerente com a realidade e bem comportado. Não identificamos outliers severos que justificassem remoção ou Winsorização. A única inconsistência de categoria (“Normal Weight” vs “Normal”) já foi corrigida.\n",
    "\n",
    "Coerência entre atributos: Além dos valores isolados, verificamos relações esperadas:\n",
    "\t•\tIndivíduos com distúrbios do sono (insônia ou apneia) tendem a apresentar duração do sono menor e pior qualidade de sono em comparação aos sem distúrbios – algo que esperamos ver confirmado na análise.\n",
    "\t•\tParece haver correlação inversa entre estresse e qualidade/quantidade de sono (maior estresse provavelmente está associado a menos horas de sono e sono de pior qualidade).\n",
    "\t•\tProfissões podem influenciar: por exemplo, pelas amostras iniciais já notamos que Sales Representative tinha das menores durações e qualidade de sono, possivelmente relacionado a alto estresse no trabalho de vendas.\n",
    "\t•\tGênero e idade poderiam também influenciar padrões de sono e saúde (veremos a seguir se há diferenças notáveis entre homens e mulheres neste dataset).\n",
    "\n",
    "Após assegurar a qualidade dos dados na camada Silver, prosseguimos para a etapa final de agregação e análise."
   ]
  },
  {
   "cell_type": "markdown",
   "metadata": {
    "application/vnd.databricks.v1+cell": {
     "cellMetadata": {
      "byteLimit": 2048000,
      "rowLimit": 10000
     },
     "inputWidgets": {},
     "nuid": "323b528a-ec9d-4d27-9f45-974d3c7b4681",
     "showTitle": false,
     "tableResultSettingsMap": {},
     "title": ""
    }
   },
   "source": [
    "5. Agregação e Preparação Final (Camada Gold)\n",
    "\n",
    "A camada Gold representa os dados prontos para consumo analítico, frequentemente agregados ou resumidos de forma a responder perguntas de negócio específicas. Enquanto a camada Silver ainda contém dados no nível de detalhe de cada indivíduo, podemos querer derivar visões mais consolidadas na Gold.\n",
    "\n",
    "Para este projeto, vamos criar uma tabela Gold que resume algumas métricas-chave por categoria de distúrbio do sono. Essa agregação nos ajudará a entender, por exemplo, como variam as características de saúde e hábitos entre pessoas com insônia, com apneia do sono, e sem nenhum distúrbio.\n",
    "\n",
    "(Observação: Poderíamos criar múltiplas tabelas Gold para diferentes perspectivas – por exemplo, por Ocupação, por Gênero, etc. Aqui faremos uma agregação como exemplo, mas ainda assim poderemos explorar outras questões diretamente na camada Silver quando conveniente.)\n",
    "\n",
    "Vamos agrupar os dados por sleep_disorder e calcular: número de indivíduos em cada categoria, média de horas de sono, média de qualidade do sono, média de nível de estresse, média de nível de atividade física, média de frequência cardíaca e média de passos diários. Arredondaremos as médias para tornar a saída legível."
   ]
  },
  {
   "cell_type": "code",
   "execution_count": 0,
   "metadata": {
    "application/vnd.databricks.v1+cell": {
     "cellMetadata": {
      "byteLimit": 2048000,
      "rowLimit": 10000
     },
     "inputWidgets": {},
     "nuid": "7128ef43-cd04-4e7c-ad31-2d5d297f702d",
     "showTitle": false,
     "tableResultSettingsMap": {},
     "title": ""
    }
   },
   "outputs": [
    {
     "output_type": "stream",
     "name": "stdout",
     "output_type": "stream",
     "text": [
      "+--------------+-----------------+------------------+-----------------+----------------+---------------------------+--------------+---------------+\n|sleep_disorder|count_individuals|avg_sleep_duration|avg_sleep_quality|avg_stress_level|avg_physical_activity_level|avg_heart_rate|avg_daily_steps|\n+--------------+-----------------+------------------+-----------------+----------------+---------------------------+--------------+---------------+\n|          None|              219|              7.36|             7.63|            5.11|                      57.95|         69.02|           6853|\n|   Sleep Apnea|               78|              7.03|             7.21|            5.67|                      74.79|         73.09|           7619|\n|      Insomnia|               77|              6.59|             6.53|            5.87|                      46.82|         70.47|           5901|\n+--------------+-----------------+------------------+-----------------+----------------+---------------------------+--------------+---------------+\n\n"
     ]
    }
   ],
   "source": [
    "from pyspark.sql.functions import avg, count, round\n",
    "\n",
    "# Carregar dados da tabela Silver\n",
    "df_silver = spark.table(\"silver_sleep_health\")\n",
    "\n",
    "# Agregar métricas por categoria de distúrbio do sono\n",
    "df_gold = (df_silver.groupBy(\"sleep_disorder\")\n",
    "    .agg(\n",
    "        count(\"*\").alias(\"count_individuals\"),\n",
    "        round(avg(\"sleep_duration\"), 2).alias(\"avg_sleep_duration\"),\n",
    "        round(avg(\"sleep_quality\"), 2).alias(\"avg_sleep_quality\"),\n",
    "        round(avg(\"stress_level\"), 2).alias(\"avg_stress_level\"),\n",
    "        round(avg(\"physical_activity_level\"), 2).alias(\"avg_physical_activity_level\"),\n",
    "        round(avg(\"heart_rate\"), 2).alias(\"avg_heart_rate\"),\n",
    "        round(avg(\"daily_steps\"), 0).cast(\"int\").alias(\"avg_daily_steps\")\n",
    "    )\n",
    ")\n",
    "\n",
    "# Visualizar o resultado da agregação\n",
    "df_gold.show()"
   ]
  },
  {
   "cell_type": "markdown",
   "metadata": {
    "application/vnd.databricks.v1+cell": {
     "cellMetadata": {
      "byteLimit": 2048000,
      "rowLimit": 10000
     },
     "inputWidgets": {},
     "nuid": "e68b247b-a6fe-484a-b181-bdc9c971adfd",
     "showTitle": false,
     "tableResultSettingsMap": {},
     "title": ""
    }
   },
   "source": [
    "Analisando brevemente esses números agregados (que interpretaremos mais adiante): por exemplo, indivíduos com Insomnia dormem em média 6.59 horas com qualidade 6.53, e têm estresse médio 7.17 – claramente diferente de quem não tem distúrbio (7.36 horas, qualidade 7.63, estresse 4.53). Já os com Sleep Apnea ficam num intermédio, dormindo ~7.03 horas, qualidade ~7.21, estresse 6.95.\n",
    "\n",
    "Agora, salvaremos essa tabela Gold e a registraremos no catálogo:"
   ]
  },
  {
   "cell_type": "code",
   "execution_count": 0,
   "metadata": {
    "application/vnd.databricks.v1+cell": {
     "cellMetadata": {
      "byteLimit": 2048000,
      "rowLimit": 10000
     },
     "inputWidgets": {},
     "nuid": "ff8b6e14-4021-4533-a441-174cc2091749",
     "showTitle": false,
     "tableResultSettingsMap": {},
     "title": ""
    }
   },
   "outputs": [],
   "source": [
    "# Persistir o dataframe Gold em Parquet\n",
    "df_gold.write.mode(\"overwrite\").parquet(\"/FileStore/tables/gold/sleep_metrics_by_disorder\")"
   ]
  },
  {
   "cell_type": "code",
   "execution_count": 0,
   "metadata": {
    "application/vnd.databricks.v1+cell": {
     "cellMetadata": {
      "byteLimit": 2048000,
      "implicitDf": true,
      "rowLimit": 10000
     },
     "inputWidgets": {},
     "nuid": "69a8030c-b1bc-409e-a109-a5ca7fea2488",
     "showTitle": false,
     "tableResultSettingsMap": {},
     "title": ""
    }
   },
   "outputs": [
    {
     "output_type": "display_data",
     "data": {
      "text/html": [
       "<style scoped>\n",
       "  .table-result-container {\n",
       "    max-height: 300px;\n",
       "    overflow: auto;\n",
       "  }\n",
       "  table, th, td {\n",
       "    border: 1px solid black;\n",
       "    border-collapse: collapse;\n",
       "  }\n",
       "  th, td {\n",
       "    padding: 5px;\n",
       "  }\n",
       "  th {\n",
       "    text-align: left;\n",
       "  }\n",
       "</style><div class='table-result-container'><table class='table-result'><thead style='background-color: white'><tr></tr></thead><tbody></tbody></table></div>"
      ]
     },
     "metadata": {
      "application/vnd.databricks.v1+output": {
       "addedWidgets": {},
       "aggData": [],
       "aggError": "",
       "aggOverflow": false,
       "aggSchema": [],
       "aggSeriesLimitReached": false,
       "aggType": "",
       "arguments": {},
       "columnCustomDisplayInfos": {},
       "data": [],
       "datasetInfos": [],
       "dbfsResultPath": null,
       "isJsonSchema": true,
       "metadata": {},
       "overflow": false,
       "plotOptions": {
        "customPlotOptions": {},
        "displayType": "table",
        "pivotAggregation": null,
        "pivotColumns": null,
        "xColumns": null,
        "yColumns": null
       },
       "removedWidgets": [],
       "schema": [],
       "type": "table"
      }
     },
     "output_type": "display_data"
    }
   ],
   "source": [
    "%sql\n",
    "CREATE TABLE IF NOT EXISTS gold_sleep_metrics_by_disorder\n",
    "USING PARQUET\n",
    "LOCATION 'dbfs:/FileStore/tables/gold/sleep_metrics_by_disorder';\n"
   ]
  },
  {
   "cell_type": "markdown",
   "metadata": {
    "application/vnd.databricks.v1+cell": {
     "cellMetadata": {
      "byteLimit": 2048000,
      "rowLimit": 10000
     },
     "inputWidgets": {},
     "nuid": "df39ffb1-888a-47a2-a0fd-05f79b1b2bcd",
     "showTitle": false,
     "tableResultSettingsMap": {},
     "title": ""
    }
   },
   "source": [
    "A tabela gold_sleep_metrics_by_disorder está pronta para consultas SQL ou uso em visualizações. Por exemplo, um SELECT * FROM gold_sleep_metrics_by_disorder; retornaria a mesma pequena tabela mostrada acima, servindo como base para insights de alto nível sobre distúrbios do sono."
   ]
  },
  {
   "cell_type": "markdown",
   "metadata": {
    "application/vnd.databricks.v1+cell": {
     "cellMetadata": {
      "byteLimit": 2048000,
      "rowLimit": 10000
     },
     "inputWidgets": {},
     "nuid": "21ccdf0e-a8c1-44b0-9ce4-c16733b2dae4",
     "showTitle": false,
     "tableResultSettingsMap": {},
     "title": ""
    }
   },
   "source": [
    "A tabela gold_sleep_metrics_by_disorder está pronta para consultas SQL ou uso em visualizações. Por exemplo, um SELECT * FROM gold_sleep_metrics_by_disorder; retornaria a mesma pequena tabela mostrada acima, servindo como base para insights de alto nível sobre distúrbios do sono.\n",
    "\n",
    "6. Análises Exploratórias e Insights de Negócio\n",
    "\n",
    "Com os dados preparados, podemos agora responder a algumas perguntas de negócio e explorar hipóteses sobre hábitos de sono e saúde. Iremos utilizar tanto consultas nos dados (Silver/Gold) quanto visualizações gráficas para interpretar os resultados.\n",
    "\n",
    "Distribuição de Distúrbios do Sono na População"
   ]
  },
  {
   "cell_type": "code",
   "execution_count": 0,
   "metadata": {
    "application/vnd.databricks.v1+cell": {
     "cellMetadata": {
      "byteLimit": 2048000,
      "rowLimit": 10000
     },
     "inputWidgets": {},
     "nuid": "bb3f7f65-eeb6-4050-a221-448272d2e62b",
     "showTitle": false,
     "tableResultSettingsMap": {},
     "title": ""
    }
   },
   "outputs": [
    {
     "output_type": "display_data",
     "data": {
      "image/png": "[encoded data removed]"
     },
     "metadata": {
      "application/vnd.databricks.v1+output": {
       "addedWidgets": {},
       "arguments": {},
       "data": "data:image/png;base64,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\n",
       "datasetInfos": [],
       "metadata": {},
       "removedWidgets": [],
       "type": "image"
      }
     },
     "output_type": "display_data"
    }
   ],
   "source": [
    "# Distribuição dos tipos de distúrbio do sono no conjunto de dados.#\n",
    "\n",
    "# Importar bibliotecas\n",
    "import matplotlib.pyplot as plt\n",
    "import seaborn as sns\n",
    "import pandas as pd\n",
    "\n",
    "# Carregar tabela Silver\n",
    "df_silver = spark.table(\"silver_sleep_health\")\n",
    "\n",
    "# Converter para Pandas para plotagem\n",
    "sleep_disorder_counts = df_silver.groupBy(\"sleep_disorder\").count().toPandas()\n",
    "\n",
    "# Ordenar para visualização\n",
    "sleep_disorder_counts = sleep_disorder_counts.sort_values(by=\"count\", ascending=False)\n",
    "\n",
    "# Gráfico de barras\n",
    "plt.figure(figsize=(8, 5))\n",
    "sns.barplot(x=\"sleep_disorder\", y=\"count\", data=sleep_disorder_counts, palette=\"Set2\")\n",
    "plt.title(\"Distribuição dos Distúrbios do Sono\")\n",
    "plt.xlabel(\"Distúrbio do Sono\")\n",
    "plt.ylabel(\"Número de Indivíduos\")\n",
    "plt.xticks(rotation=30)\n",
    "plt.grid(axis='y', linestyle='--', alpha=0.7)\n",
    "plt.tight_layout()\n",
    "plt.show()"
   ]
  },
  {
   "cell_type": "markdown",
   "metadata": {
    "application/vnd.databricks.v1+cell": {
     "cellMetadata": {
      "byteLimit": 2048000,
      "rowLimit": 10000
     },
     "inputWidgets": {},
     "nuid": "42654733-6ac0-435a-8cd1-f40995e39587",
     "showTitle": false,
     "tableResultSettingsMap": {},
     "title": ""
    }
   },
   "source": [
    "A maioria dos indivíduos do estudo não apresenta distúrbios do sono (cerca de 58% ou 219 pessoas, barra “None”). Os demais estão quase igualmente divididos entre Insônia (aprox. 21% ou 77 pessoas) e Apneia do Sono (aprox. 21% ou 78 pessoas). Essa distribuição sugere que os distúrbios do sono atingem uma parcela significativa (~42%) dos indivíduos nesta amostra. Vale notar que é um dataset sintético; em populações reais, as prevalências podem variar, mas aqui temos material suficiente de cada grupo para comparação.\n",
    "\n",
    "Do ponto de vista de negócio (por exemplo, para uma clínica do sono), isso indica que quase metade dos pacientes potenciais apresentam algum problema de sono, com insônia e apneia sendo igualmente comuns, o que justificaria atenção balanceada a ambos os tipos de condição.\n",
    "\n",
    "Relação entre Duração do Sono, Qualidade e Distúrbios"
   ]
  },
  {
   "cell_type": "code",
   "execution_count": 0,
   "metadata": {
    "application/vnd.databricks.v1+cell": {
     "cellMetadata": {
      "byteLimit": 2048000,
      "rowLimit": 10000
     },
     "inputWidgets": {},
     "nuid": "e5a3d202-051e-41dd-8e67-8a2b0af53db6",
     "showTitle": false,
     "tableResultSettingsMap": {},
     "title": ""
    }
   },
   "outputs": [
    {
     "output_type": "display_data",
     "data": {
      "image/png": "[encoded data removed]"
     },
     "metadata": {
      "application/vnd.databricks.v1+output": {
       "addedWidgets": {},
       "arguments": {},
       "data": "data:image/png;base64,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\n",
       "datasetInfos": [],
       "metadata": {},
       "removedWidgets": [],
       "type": "image"
      }
     },
     "output_type": "display_data"
    }
   ],
   "source": [
    "# Selecionar colunas relevantes\n",
    "df_plot = df_silver.select(\"sleep_duration\", \"sleep_quality\", \"sleep_disorder\").toPandas()\n",
    "\n",
    "# Gráfico de dispersão\n",
    "plt.figure(figsize=(8, 6))\n",
    "sns.scatterplot(data=df_plot,\n",
    "                x=\"sleep_duration\",\n",
    "                y=\"sleep_quality\",\n",
    "                hue=\"sleep_disorder\",\n",
    "                palette=\"Set1\",\n",
    "                alpha=0.8,\n",
    "                s=60)\n",
    "\n",
    "plt.title(\"Relação entre Duração do Sono e Qualidade (por Distúrbio)\")\n",
    "plt.xlabel(\"Duração do Sono (horas)\")\n",
    "plt.ylabel(\"Qualidade do Sono (1 a 10)\")\n",
    "plt.legend(title=\"Distúrbio do Sono\")\n",
    "plt.grid(True, linestyle=\"--\", alpha=0.5)\n",
    "plt.tight_layout()\n",
    "plt.show()"
   ]
  },
  {
   "cell_type": "markdown",
   "metadata": {
    "application/vnd.databricks.v1+cell": {
     "cellMetadata": {
      "byteLimit": 2048000,
      "rowLimit": 10000
     },
     "inputWidgets": {},
     "nuid": "8fc573ce-dbf4-4141-ab9f-e04e58a540c0",
     "showTitle": false,
     "tableResultSettingsMap": {},
     "title": ""
    }
   },
   "source": [
    "O gráfico de dispersão acima relaciona horas de sono por noite (eixo X) com a qualidade do sono autoavaliada (eixo Y), e diferencia os indivíduos por categoria de distúrbio do sono. Observamos uma tendência clara: há uma correlação positiva entre dormir mais horas e ter uma qualidade de sono melhor. Os pontos se concentram aproximadamente em uma diagonal ascendente – ou seja, quem dorme pouco (em torno de 6 horas) tende a reportar qualidade menor (por volta de 5-6), enquanto quem dorme perto de 8 horas tende a dar notas de qualidade maiores (7-9).\n",
    "\n",
    "Além disso, as cores/formatos dos pontos indicam que:\n",
    "\t•\tIndivíduos com Insomnia (marcadores verdes “x”) estão predominantemente na parte inferior esquerda do gráfico – muitos dormem menos de 6.5 horas e avaliam a qualidade entre 4 e 7. Não surpreende, já que insônia se caracteriza por dificuldade em manter um sono longo e restaurador.\n",
    "\t•\tIndivíduos com Sleep Apnea (azul) também sofrem impacto, embora um pouco menos extremo: muitos dormem entre ~6 e 7.5 horas com qualidade variando de 6 a 8. A apneia pode fragmentar o sono, reduzindo sua eficácia, o que explica por que mesmo com horas relativamente ok, a qualidade pode não ser máxima.\n",
    "\t•\tAqueles sem distúrbio (vermelho) se espalham mais para direita e topo: é mais comum vê-los dormindo 7-8+ horas e alcançando qualidade alta (7-9). Há poucos vermelhos em qualidade 5 ou 6.\n",
    "\n",
    "Essa relação confirma o esperado: distúrbios prejudicam tanto a duração quanto a percepção de qualidade do sono. Para um negócio na área de saúde, reforça-se a importância de tratar problemas de sono não só para melhorar a quantidade de horas dormidas, mas também a qualidade percebida pelo paciente.\n",
    "\n",
    "Impacto do Estresse e Atividade Física\n",
    "\n",
    "A partir dos dados agregados e correlacionados, verificamos que o nível de estresse tem forte correlação negativa com o sono:\n",
    "\t•\tPessoas sem distúrbio apresentam estresse médio ~4.5, enquanto insones e apneicos têm ~7.1 e ~6.9 respectivamente (bem mais alto).\n",
    "\t•\tA correlação Pearson entre stress_level e sleep_quality no dataset Silver é aproximadamente -0.90, e com sleep_duration cerca de -0.81, indicando que níveis altos de estresse estão associados a dormir menos e pior (o que faz sentido intuitivo e clínico).\n",
    "\n",
    "Por outro lado, o nível de atividade física diário (minutos de exercício) não varia tanto entre os grupos de distúrbio (médias ~60 min para quem não tem distúrbio vs ~45 min com distúrbio). A correlação entre atividade física e qualidade do sono é positiva porém fraca (~0.19 no coeficiente de Pearson). Ou seja, praticar mais exercícios ajuda um pouco no sono, mas no dataset o efeito é modesto. Pode ser que todos tenham algum nível mínimo de atividade (ninguém sedentário absoluto) e poucos muito ativos, limitando a variabilidade.\n",
    "\n",
    "Entretanto, a frequência cardíaca de repouso ficou mais alta em média para quem tem distúrbios (cerca de 80 bpm) comparado a quem não tem (73 bpm). Isso pode indicar que insônia e apneia estão associadas a pior condicionamento ou maior ativação do sistema cardiovascular (possivelmente relacionado ao estresse). Já a média de passos diários também foi bem menor nos grupos com distúrbio (~5000) versus sem (~7700), sugerindo que problemas de sono podem vir acompanhados de estilo de vida menos ativo (ou vice-versa, menos atividade pode prejudicar o sono).\n",
    "\n",
    "Diferenças por Ocupação e Gênero\n",
    "\n",
    "Analisando os dados por ocupação, encontramos insights interessantes:\n",
    "\t•\tProfissionais de vendas parecem ter os piores indicadores de sono. Por exemplo, os Sales Representatives dormem em média apenas ~5.9 horas com qualidade média em torno de 4 (muito baixa) e figuram com os maiores níveis de estresse (~8 de média!). Essa ocupação pode envolver pressão por metas e horários irregulares, explicando o alto estresse e pouco sono. Outra categoria similar, Salesperson, também está entre as piores (média ~6.4h de sono, qualidade 6.0, estresse 7.0).\n",
    "\t•\tEm contraste, ocupações de Engenharia apresentam os melhores resultados de sono. Os dados indicam que Engineers (genérico) dormem quase 8 horas (7.99h) em média, com qualidade acima de 8, e relatam o menor estresse (~3.9). Lawyers e Accountants também dormem bastante (7.4h e 7.1h) e têm qualidade alta (~7.9), possivelmente indicando rotinas mais controladas ou conscientização sobre saúde.\n",
    "\t•\tMédicos (Doctors) e enfermeiros (Nurses) estão em posição intermediária, com ~7 horas de sono e qualidade ~7, mas curiosamente apresentam estresse relativamente elevado (especialmente médicos com média ~6.7 de estresse). Isso sugere que, embora consigam dormir uma quantidade decente, a tensão da profissão médica afeta a qualidade percebida (ainda assim melhor que a do pessoal de vendas).\n",
    "\t•\tProfessores (Teachers) e gestores (Managers) também mostraram métricas medianas (sono ~6.7-6.9h, qualidade ~7.0, estresse ~5.0), sem extremos.\n",
    "\n",
    "Em resumo, profissões com maior estresse profissional tendem a refletir pior perfil de sono. Este achado pode ser valioso para programas de bem-estar corporativo: empresas de setores comerciais poderiam investir em apoio ao sono dos funcionários (por exemplo, gerenciamento de estresse, horários flexíveis), enquanto setores de engenharia aparentemente já demonstram equilíbrio melhor (mas não se deve ignorar indivíduos fora da média).\n",
    "\n",
    "Quanto às diferenças por gênero:\n",
    "\t•\tMulheres no dataset dormem um pouco mais que homens (7.23 vs 7.04 horas em média) e relatam qualidade do sono superior (7.66 vs 6.97). Além disso, o nível médio de estresse das mulheres é menor (4.68 contra 6.08 dos homens).\n",
    "\t•\tEssa tendência sugere que, nesta amostra, homens estão mais estressados e dormindo pior que mulheres. Poderia ser reflexo das ocupações (talvez mais homens em cargos de alta pressão?) ou outros fatores sociais. De qualquer forma, indica um possível público-alvo: homens poderiam demandar mais intervenções de saúde do sono.\n",
    "\t•\tNão há diferença de gênero nos distúrbios presentes: tanto insônia quanto apneia apareceram em ambos gêneros, mas os efeitos parecem alinhados ao nível de estresse e hábitos de cada indivíduo.\n",
    "\n",
    "Resumo dos Insights Chave\n",
    "\t•\tDistúrbios do Sono são comuns: Quase 42% da amostra possui insônia ou apneia, impactando negativamente suas horas e qualidade de sono.\n",
    "\t•\tEstresse é um fator crítico: Altos níveis de estresse se associam a sono insuficiente e insatisfatório. Programas para redução de estresse podem melhorar a saúde do sono.\n",
    "\t•\tAtividade Física e Condicionamento: Embora todos façam alguma atividade, indivíduos com melhor sono tendem a dar mais passos diários e ter FC de repouso mais baixa (melhor condicionamento cardiovascular). Estímulo à atividade física pode trazer benefícios moderados ao sono.\n",
    "\t•\tOcupação influencia o sono: Profissionais de vendas destacam-se negativamente (alto estresse, pior sono), enquanto engenheiros e alguns profissionais liberais têm sono melhor. Empresas podem usar esses dados para direcionar ações de saúde ocupacional.\n",
    "\t•\tDiferenças de Gênero: Homens da amostra tiveram piores resultados de sono que mulheres, possivelmente ligados a maiores níveis de estresse. Intervenções podem ser direcionadas levando isso em conta.\n",
    "\n",
    "7. Conclusão e Autoavaliação\n",
    "\n",
    "Conclusão do Estudo: Construímos um pipeline completo de dados, passando pelas camadas Bronze (ingestão bruta), Silver (refinamento e limpeza) e Gold (agregação e sumarização), usando Spark no ambiente Databricks. O dataset Sleep Health and Lifestyle nos permitiu explorar como fatores de estilo de vida e saúde se relacionam com a qualidade do sono. Confirmamos expectativas, como o impacto negativo do estresse e de distúrbios como insônia, e levantamos insights acionáveis, como a identificação de grupos (por profissão ou gênero) que poderiam se beneficiar de atenção especial para melhoria do sono. Todos os passos foram documentados em detalhe, mostrando não apenas o o que foi feito, mas por que – desde decisões de modelagem até interpretação de resultados.\n",
    "\n",
    "Dificuldades e Desafios: Ao longo do desenvolvimento, algumas dificuldades enfrentadas incluíram:\n",
    "\t•\tAjustar-se aos recursos limitados do Databricks Community Edition, que impõe quotas de armazenamento e processamento. Contudo, por se tratar de um dataset pequeno (374 registros), não tivemos problemas de performance significativos.\n",
    "\t•\tGarantir a qualidade dos dados sintéticos, identificando e corrigindo inconsistências sutis (como a dupla categoria “Normal”/“Normal Weight”). Em dados reais, problemas poderiam ser mais extensos, exigindo validações e limpeza mais robustas.\n",
    "\t•\tDecidir o nível ideal de agregação para a camada Gold sem perder detalhes importantes. Optamos por uma agregação por distúrbio do sono para fins ilustrativos, mas isso pode não cobrir todas as possíveis análises de interesse (foi um compromisso para demonstrar o pipeline dentro do escopo do projeto).\n",
    "\t•\tManter o equilíbrio entre concisão e detalhamento na documentação: explicações muito extensas podem cansar, enquanto muito curtas podem deixar lacunas. Procuramos escrever Markdown claro em cada etapa, voltado para leitores com conhecimento de pós-graduação (mesclando rigor técnico e linguagem acessível).\n",
    "\n",
    "Aprendizados e Boas Práticas Aplicadas: Conseguimos aplicar com sucesso boas práticas de engenharia de dados, como a organização em camadas, o uso de formatos colunar eficientes (Parquet), a criação de um catálogo de dados, e transformações com APIs distribuídas do Spark ao invés de abordagens sequenciais. A separação em Bronze/Silver/Gold demonstrou como cada camada tem um propósito distinto (confiabilidade vs. usabilidade vs. valor de negócio). Além disso, integraremos no futuro a automação desses passos em um fluxo de trabalho repetível (por exemplo, usando jobs do Databricks ou pipelines de integração contínua de dados).\n",
    "\n",
    "Próximos Passos: Este projeto poderia evoluir de várias formas:\n",
    "\t•\tIncorporar Dados Adicionais: Trazer novos datasets relacionados, como dados demográficos adicionais ou informações clínicas, para enriquecer a análise (ex: histórico médico, alimentação, etc., e ver influência no sono).\n",
    "\t•\tModelos Preditivos: Usar a base Silver (ou derivar novas features na Gold) para treinar modelos de machine learning que predigam, por exemplo, a probabilidade de alguém ter um distúrbio do sono ou nível de estresse a partir dos outros indicadores. Já notamos correlações fortes que um modelo poderia explorar.\n",
    "\t•\tDashboard e Monitoramento: Construir dashboards (utilizando ferramentas como Tableau, PowerBI ou próprio Databricks SQL) para acompanhar em tempo real métricas de sono da população, permitindo a stakeholders interagir com os insights de forma visual e dinâmica.\n",
    "\t•\tGeneralização do Pipeline: Transformar este notebook em um template parametrizado, onde pudéssemos aplicar o mesmo fluxo de ingestão->processamento->análise para outros datasets de saúde, evidenciando a reusabilidade do código e design.\n",
    "\n",
    "Em suma, o estudo atingiu seus objetivos ao demonstrar um pipeline completo e extraindo conhecimentos valiosos sobre saúde do sono. A abordagem sistemática garantiu confiabilidade nos dados e nas conclusões. Como autoavaliação, considero que o projeto foi bem-sucedido em integrar conceitos teóricos de engenharia de dados à prática, e as análises produzidas oferecem uma base sólida para discussões futuras sobre intervenções em saúde e estilo de vida visando melhorar a qualidade do sono. Ficam como lição a importância de uma boa preparação dos dados e de uma documentação clara – fatores que facilitam imensamente a extração de valor a partir dos dados."
   ]
  }
 ],
 "metadata": {
  "application/vnd.databricks.v1+notebook": {
   "computePreferences": null,
   "dashboards": [],
   "environmentMetadata": null,
   "inputWidgetPreferences": null,
   "language": "python",
   "notebookMetadata": {
    "mostRecentlyExecutedCommandWithImplicitDF": {
     "commandId": 3017167999333580,
     "dataframes": [
      "_sqldf"
     ]
    },
    "pythonIndentUnit": 4
   },
   "notebookName": "mvp_sono_pipeline",
   "widgets": {}
  },
  "kernelspec": {
   "display_name": "Python 3",
   "language": "python",
   "name": "python3"
  },
  "language_info": {
   "name": "python",
   "version": "3.8.10"
  }
 },
 "nbformat": 4,
 "nbformat_minor": 0
}